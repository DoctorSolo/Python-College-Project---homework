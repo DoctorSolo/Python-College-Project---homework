{
 "cells": [
  {
   "cell_type": "code",
   "execution_count": 7,
   "metadata": {},
   "outputs": [
    {
     "name": "stdout",
     "output_type": "stream",
     "text": [
      "20\n"
     ]
    }
   ],
   "source": [
    "# exercicio 1:\n",
    "limite_soma = 2\n",
    "soma = sum([int(input(f\"Informe o valor {_ + 1} para proseguir com a soma: \")) for _ in range(limite_soma)])\n",
    "\n",
    "print(soma)"
   ]
  },
  {
   "cell_type": "code",
   "execution_count": 4,
   "metadata": {},
   "outputs": [
    {
     "name": "stdout",
     "output_type": "stream",
     "text": [
      "86.0\n"
     ]
    }
   ],
   "source": [
    "# exercicio 2:\n",
    "\n",
    "celsius = 30\n",
    "fahrenheit = celsius * 9/5 + 32\n",
    "\n",
    "print(fahrenheit)"
   ]
  },
  {
   "cell_type": "code",
   "execution_count": 3,
   "metadata": {},
   "outputs": [],
   "source": [
    "# exercicio 3:\n",
    "\n",
    "usuario = input(\"Crie um nome de usuario: \")\n",
    "senha   = input(\"crie uma senha\")\n",
    "\n",
    "while usuario == senha:\n",
    "    print(\"Erro ao criar senha!! Por favor, coloque uma senha mais forte\")\n",
    "    senha = input(\"crie uma senha\")"
   ]
  },
  {
   "cell_type": "code",
   "execution_count": 5,
   "metadata": {},
   "outputs": [
    {
     "name": "stdout",
     "output_type": "stream",
     "text": [
      "valor total a pagar: R$429.0\n"
     ]
    }
   ],
   "source": [
    "# exercicio 4:\n",
    "\n",
    "km      = int(input(\"Digite os Km percorridos: \"))\n",
    "dias    = int(input(\"Digite os dias alugados: \"))\n",
    "\n",
    "valor_total = (dias * 60) + (km * 0.15)\n",
    "\n",
    "print (\"valor total a pagar: R$\" + str(valor_total))"
   ]
  },
  {
   "cell_type": "code",
   "execution_count": 9,
   "metadata": {},
   "outputs": [
    {
     "name": "stdout",
     "output_type": "stream",
     "text": [
      "Sua medida em Cm é: 200000 E em mm é:  2000000\n"
     ]
    }
   ],
   "source": [
    "# exercicio 5:\n",
    "\n",
    "metros = int(input(\"Digite o valor em metros: \"))\n",
    "\n",
    "cm = metros * 100\n",
    "mm = cm * 10\n",
    "\n",
    "print(f\"Sua medida em Cm é: { cm } E em mm é:  { mm }\")"
   ]
  },
  {
   "cell_type": "code",
   "execution_count": 11,
   "metadata": {},
   "outputs": [
    {
     "name": "stdout",
     "output_type": "stream",
     "text": [
      "Não obrigatorio\n"
     ]
    }
   ],
   "source": [
    "# exercicio 6:\n",
    "\n",
    "idade = int(input(\"Digite sua idade: \"))\n",
    "\n",
    "if idade < 16:\n",
    "    print(\"Não eleitor\")\n",
    "elif 16 <= idade < 18:\n",
    "    print(\"Eleitor facultativo\")\n",
    "elif 18 <= idade < 65:\n",
    "    print(\"Eleitor obrigatorio\")\n",
    "elif idade >= 65:\n",
    "    print(\"Não obrigatorio\")"
   ]
  },
  {
   "cell_type": "code",
   "execution_count": 13,
   "metadata": {},
   "outputs": [
    {
     "name": "stdout",
     "output_type": "stream",
     "text": [
      "5 é impar de resto 1\n"
     ]
    }
   ],
   "source": [
    "# exercicio 7:\n",
    "\n",
    "n = int(input(\"Digite um numero: \"))\n",
    "\n",
    "if n%2 == 0:\n",
    "    print(str(n) + \" é par\")\n",
    "else:\n",
    "    print(str(n) + \" é impar\")"
   ]
  },
  {
   "cell_type": "code",
   "execution_count": 19,
   "metadata": {},
   "outputs": [
    {
     "name": "stdout",
     "output_type": "stream",
     "text": [
      "Seu novo salario é: 1580.7\n"
     ]
    }
   ],
   "source": [
    "# exercicio 8:\n",
    "\n",
    "salario = int(input(\"informe seu salario: \"))\n",
    "\n",
    "if salario > 1250:\n",
    "    salario = salario * (1.10)\n",
    "else:\n",
    "    salario = salario * (1.15)\n",
    "\n",
    "print(\"Seu novo salario é: \" + str(salario))"
   ]
  },
  {
   "cell_type": "code",
   "execution_count": 3,
   "metadata": {},
   "outputs": [
    {
     "name": "stdout",
     "output_type": "stream",
     "text": [
      "a1 = 1\n",
      "a2 = 1\n",
      "a3 = 1\n",
      "a4 = 1\n",
      "a5 = 1\n",
      "a6 = 1\n",
      "a7 = 1\n",
      "a8 = 1\n",
      "a9 = 1\n",
      "a10 = 1\n"
     ]
    }
   ],
   "source": [
    "# exercicio 9:\n",
    "\n",
    "pa = [1,2,3,4,5,6,7,8,9,10]\n",
    "for a in range(1,11):\n",
    "    r = (a in pa) - ((a-1) in pa)\n",
    "    a_pa = (1 in pa) + (a - 1)*r\n",
    "    print(f\"a{a} = {a_pa}\")"
   ]
  },
  {
   "cell_type": "code",
   "execution_count": 30,
   "metadata": {},
   "outputs": [
    {
     "name": "stdout",
     "output_type": "stream",
     "text": [
      "Não é numero primo\n"
     ]
    }
   ],
   "source": [
    "# exercicio 10:\n",
    "\n",
    "n = int(input(\"Digite um numero: \"))\n",
    "q_div = 0\n",
    "\n",
    "for _ in range(1,(n+1)):\n",
    "    if n%_ == 0:\n",
    "        q_div = q_div + 1\n",
    "#print (q_div)\n",
    "\n",
    "if q_div == 2:\n",
    "     print(\"É numero primo\")\n",
    "else:\n",
    "     print(\"Não é numero primo\")"
   ]
  },
  {
   "cell_type": "code",
   "execution_count": 59,
   "metadata": {},
   "outputs": [
    {
     "name": "stdout",
     "output_type": "stream",
     "text": [
      "Você escolheu :papel! O computador escolheu:tesoura! Portanto voce perdeu!!\n"
     ]
    }
   ],
   "source": [
    "# exercicio 11:\n",
    "\n",
    "import random\n",
    "\n",
    "jogo = random.randint(0,2)\n",
    "\n",
    "opcoes = [\"pedra\",\"papel\",\"tesoura\"]\n",
    "escolha = -1\n",
    "\n",
    "while escolha < 0 or escolha > 2:\n",
    "    escolha = int(input(\"Escolha 0 para pedra, 1 para papel e 2 para tesoura: \"))\n",
    "\n",
    "if escolha == jogo:\n",
    "    mens = \"empatou\"\n",
    "elif (escolha == 0 and jogo == 2) or (escolha == 1 and jogo == 0) or (escolha == 2 and jogo == 1):\n",
    "    mens = \"voce ganhou\"\n",
    "else:\n",
    "    mens = \"voce perdeu\"\n",
    "\n",
    "print (f\"Você escolheu :{opcoes[escolha]}! O computador escolheu:{opcoes[jogo]}! Portanto {mens}!!\")"
   ]
  },
  {
   "cell_type": "code",
   "execution_count": 60,
   "metadata": {},
   "outputs": [
    {
     "name": "stdout",
     "output_type": "stream",
     "text": [
      "Numero pequeno, tente de novo\n",
      "voce ganhou.\n"
     ]
    }
   ],
   "source": [
    "# exercicio 12:\n",
    "\n",
    "import random\n",
    "\n",
    "n_max = 5\n",
    "comp = random.randint(0,n_max)\n",
    "usua = int(input(\"Encolha um numero entre 0 a \"+ str(n_max)))\n",
    "\n",
    "while (usua != comp):\n",
    "    if usua < comp:\n",
    "        print (\"Numero pequeno, tente de novo\")\n",
    "    elif usua > comp:\n",
    "        print (\"numero grande, tente de novo\")\n",
    "    usua = int(input(\"Encolha um numero entre 0 a \"+ str(n_max)))\n",
    "    \n",
    "print (\"voce ganhou.\")"
   ]
  },
  {
   "cell_type": "code",
   "execution_count": 73,
   "metadata": {},
   "outputs": [
    {
     "name": "stdout",
     "output_type": "stream",
     "text": [
      "A soma dos numeros pares são: 2\n"
     ]
    }
   ],
   "source": [
    "# exercicio 13:\n",
    "\n",
    "n_max = 6\n",
    "\n",
    "valores = [int(input(f\"Digite o {_}° numero: \")) for _ in range(n_max)]\n",
    "soma    = sum(valor for valor in valores if valor % 2 == 0)\n",
    "\n",
    "print (\"A soma dos numeros pares são: \" + str(soma))"
   ]
  },
  {
   "cell_type": "code",
   "execution_count": 26,
   "metadata": {},
   "outputs": [
    {
     "name": "stdout",
     "output_type": "stream",
     "text": [
      "CPU Errou Para Cima\n",
      "CPU Errou Para Cima\n",
      "CPU Errou Para Baixo\n",
      "Parabéns CPU acertou\n"
     ]
    }
   ],
   "source": [
    "import random\n",
    "chave = bool(False)\n",
    "chute = int(input(\"Digite o numero entre 0 e 10: \"))\n",
    "\n",
    "while not chave:\n",
    "    num_cpu = random.randint(0,10)\n",
    "    \n",
    "    \n",
    "    if chute == num_cpu:\n",
    "        print(\"Parabéns CPU acertou\")\n",
    "        chave = True\n",
    "    elif chute < num_cpu:\n",
    "        print(\"CPU Errou Para Cima\")\n",
    "    else:\n",
    "        print(\"CPU Errou Para Baixo\")\n",
    "    \n",
    "    if chute > 10 or chute < 0:\n",
    "        print(\"Número incorreto\")\n",
    "        print(\"Encerrando...\")\n",
    "        break"
   ]
  },
  {
   "cell_type": "code",
   "execution_count": 84,
   "metadata": {},
   "outputs": [
    {
     "name": "stdout",
     "output_type": "stream",
     "text": [
      "O fatorial de 4 é: 24\n"
     ]
    }
   ],
   "source": [
    "# exercicio 14:\n",
    "\n",
    "num = int(input(\"Digite um numero natural: \"))\n",
    "fat = 1\n",
    "while num < 0:\n",
    "    num = int(input(\"Não é existe fatorial de numero negativo. Digite um numero natural: \"))\n",
    "\n",
    "if num > 1:\n",
    "    for f in range(num):\n",
    "         fat *= (num - f)\n",
    "\n",
    "print(f\"O fatorial de {num} é: {fat}\")"
   ]
  },
  {
   "cell_type": "code",
   "execution_count": 6,
   "metadata": {},
   "outputs": [
    {
     "name": "stdout",
     "output_type": "stream",
     "text": [
      "{'Nome': 'Safira', 'Data Nascimento': 1900, 'CTPS': 0, 'Idade': 124, 'Aposentadoria': -64}\n"
     ]
    }
   ],
   "source": [
    "# exercicio 15:\n",
    "nome    = input(\"Informe o nome: \")\n",
    "an_nasc = int(input(\"Informe o ano de nascimento: \"))\n",
    "ctps    = int(input(\"Informe a carteira de trabalho: \"))\n",
    "salario_mi  = 6000\n",
    "ano_cont    = 2024\n",
    "i_d_aposent = 60\n",
    "\n",
    "idade = ano_cont - an_nasc\n",
    "aposent = i_d_aposent - idade\n",
    "\n",
    "nome = {\n",
    "    \"Nome\"              : nome,\n",
    "    \"Data Nascimento\"   : an_nasc,\n",
    "    \"CTPS\"              : ctps,\n",
    "    \"Idade\"             : idade,\n",
    "   \"Aposentadoria\"      : aposent,\n",
    "}\n",
    "\n",
    "if ctps > 0:\n",
    "    nome[\"Ano de contratação\"]  = ano_cont\n",
    "    nome[\"Salario\"]             = salario\n",
    "\n",
    "print (nome)"
   ]
  },
  {
   "cell_type": "code",
   "execution_count": 9,
   "metadata": {},
   "outputs": [
    {
     "name": "stdout",
     "output_type": "stream",
     "text": [
      "{'Nome': 'Miguel', 'Media': 60, 'aprovação': 'Aprovado'}\n"
     ]
    }
   ],
   "source": [
    "# exercicio 16:\n",
    "nome = input(\"Informe o nome do aluno: \")\n",
    "medi = int(input(\"Informe a media do aluno: \"))\n",
    "aprovado = False\n",
    "\n",
    "if medi >= 60:\n",
    "    aprovado = True\n",
    "situac = {\"Situação\": aprovado}"
   ]
  },
  {
   "cell_type": "code",
   "execution_count": 87,
   "metadata": {},
   "outputs": [
    {
     "name": "stdout",
     "output_type": "stream",
     "text": [
      "Pessoas cadastradas:  3\n",
      "Media das idades:  18.666666666666668\n",
      "As mulheres presentes são:  [{'Nome': 'Layla', 'Idade': 18, 'Genero': 'F'}, {'Nome': 'Fernanda', 'Idade': 18, 'Genero': 'F'}]\n",
      "Pessoas acima da media são: [{'Nome': 'Miguel', 'Idade': 20, 'Genero': 'M'}]\n"
     ]
    }
   ],
   "source": [
    "# exercicio 17:\n",
    "list_dados = []\n",
    "\n",
    "for _ in range(10):\n",
    "    nome    = input(\"Digite o nome: \")\n",
    "    idade   = int(input(\"Digite a idade: \"))\n",
    "    gener   = input(\"Digite F se for mulher ou M se for homem: \")\n",
    "\n",
    "    dados = {\"Nome\": nome,\"Idade\":idade, \"Genero\": gener}\n",
    "    list_dados.append(dados)\n",
    "\n",
    "# A)\n",
    "n_pessoas = len(list_dados)\n",
    "print(\"Pessoas cadastradas: \", n_pessoas)\n",
    "\n",
    "# B)\n",
    "media = sum(_[\"Idade\"] for _ in list_dados)/n_pessoas\n",
    "print(\"Media das idades: \", media)\n",
    "\n",
    "# C)\n",
    "list_mulheres = [mulher for mulher in list_dados if mulher[\"Genero\"] == \"F\"]\n",
    "print(\"As mulheres presentes são: \", list_mulheres)\n",
    "\n",
    "# D)\n",
    "list_ind_ac_media = [idoso for idoso in list_dados if idoso[\"Idade\"]>media]\n",
    "print(\"Pessoas acima da media são: \", list_ind_ac_media)"
   ]
  },
  {
   "cell_type": "code",
   "execution_count": 150,
   "metadata": {},
   "outputs": [
    {
     "name": "stdout",
     "output_type": "stream",
     "text": [
      "A media das idades é:  24.5\n",
      "O nome do homem mais velho é:  Ygor\n",
      "1  são mulheres que tem menos de 20 anos\n"
     ]
    }
   ],
   "source": [
    "# exercicio 18:\n",
    "\n",
    "#criação de variaveis//////////////////////////////////\n",
    "list_dados = []\n",
    "n_max = 4\n",
    "#leitura dos dados//////////////////////////////////////\n",
    "for q in range(0,n_max):\n",
    "    nome    = input(\"Informe o nome: \")\n",
    "    idade   = int(input(\"Informe a idade: \"))\n",
    "    sexo    = input(\"Informe o genero (F ou M): \")\n",
    "\n",
    "    #operações e entrada de dados /////////////////////////////////////////////////////////\n",
    "    dados = {\"Nome\": nome,\"Idade\":idade,\"Sexo\":sexo}\n",
    "    list_dados.append(dados)\n",
    "\n",
    "# media ////////////////////////////////////////////////////////////////////////////////////\n",
    "media = sum(_[\"Idade\"] for _ in list_dados)/len(list_dados)\n",
    "print(\"A media das idades é: \",media)\n",
    "\n",
    "# cria lista com homens em ordem de idade do maior para o menor ////////////////////////////\n",
    "homMaisVelho = sorted(list_dados, key=lambda x: x[\"Idade\"], reverse=True)\n",
    "homMaisVelho = [_[\"Nome\"] for _ in homMaisVelho if _[\"Sexo\"] == \"M\"][0]\n",
    "print(\"O nome do homem mais velho é: \",homMaisVelho)\n",
    "\n",
    "# Mulheres menos de 20 ///////////////////////////////////////////////////////////////////\n",
    "mulheresMenosD20 = len([_ for _ in list_dados if _[\"Idade\"] < 20])\n",
    "print(mulheresMenosD20,\" são mulheres que tem menos de 20 anos\")"
   ]
  },
  {
   "cell_type": "code",
   "execution_count": 103,
   "metadata": {},
   "outputs": [
    {
     "name": "stdout",
     "output_type": "stream",
     "text": [
      "2\n"
     ]
    }
   ],
   "source": []
  },
  {
   "cell_type": "code",
   "execution_count": 7,
   "metadata": {},
   "outputs": [
    {
     "name": "stdout",
     "output_type": "stream",
     "text": [
      "1 não é um numero primo\n"
     ]
    }
   ],
   "source": [
    "# Exercicio 19:\n",
    "\n",
    "numero = int(input(\"Digite um numero inteiro: \"))\n",
    "\n",
    "divisiveis_n = 0\n",
    "numero_primo = False\n",
    "\n",
    "for i in range(1,numero):\n",
    "    if numero%i == 0:\n",
    "        divisiveis_n = divisiveis_n + 1\n",
    "if divisiveis_n == 1:\n",
    "    numero_primo = True\n",
    "\n",
    "if numero_primo:\n",
    "    print(str(numero) + \" é um numero primo\")\n",
    "else:\n",
    "    print(str(numero) + \" não é um numero primo\")"
   ]
  },
  {
   "cell_type": "code",
   "execution_count": 129,
   "metadata": {},
   "outputs": [
    {
     "data": {
      "text/plain": [
       "[{'mes 1': 6000.0},\n",
       " {'mes 2': 12000.0},\n",
       " {'mes 3': 18000.0},\n",
       " {'mes 4': 24000.0},\n",
       " {'mes 5': 30000.0},\n",
       " {'mes 6': 36000.0},\n",
       " {'mes 7': 42000.0},\n",
       " {'mes 8': 48000.0},\n",
       " {'mes 9': 54000.0},\n",
       " {'mes 10': 60000.0},\n",
       " {'mes 11': 66000.0},\n",
       " {'mes 12': 72000.0},\n",
       " {'mes 13': 78000.0},\n",
       " {'mes 14': 84000.0},\n",
       " {'mes 15': 90000.0},\n",
       " {'mes 16': 96000.0},\n",
       " {'mes 17': 102000.0},\n",
       " {'mes 18': 108000.0},\n",
       " {'mes 19': 114000.0},\n",
       " {'mes 20': 120000.0},\n",
       " {'mes 21': 126000.0},\n",
       " {'mes 22': 132000.0},\n",
       " {'mes 23': 138000.0},\n",
       " {'mes 24': 144000.0}]"
      ]
     },
     "metadata": {},
     "output_type": "display_data"
    }
   ],
   "source": [
    "# Exercicio 20:\n",
    "\n",
    "deposito    = float(input(\"Informe o deposito inicial: \"))\n",
    "juros       = float(input(\"Informe os juros%: \"))\n",
    "meses_t     = 24\n",
    "valor_t     = 0\n",
    "historico   = []\n",
    "\n",
    "for _ in range(meses_t):\n",
    "    valor_t += (deposito * (1 + (juros/100)))\n",
    "    historico.append({f\"mes {_+1}\": valor_t})\n",
    "    #print(f\"Valor do mes {_+1} é: {valor_t} \")\n",
    "\n",
    "display(historico)"
   ]
  },
  {
   "cell_type": "code",
   "execution_count": 143,
   "metadata": {},
   "outputs": [
    {
     "name": "stdout",
     "output_type": "stream",
     "text": [
      "A soma dos numeros é: 6 e foram digitados 2 numeros. [1, 5]\n"
     ]
    }
   ],
   "source": [
    "# Exercicio 21:\n",
    "numeros = []\n",
    "\n",
    "while True:\n",
    "    numero = int(input(\"Dite varios numerou ou 999 para parar: \"))\n",
    "    if numero == 999:\n",
    "        break\n",
    "    numeros.append(numero)\n",
    "\n",
    "soma    = sum(numeros)\n",
    "quant   = len(numeros)\n",
    "\n",
    "print(f\"A soma dos numeros é: {soma} e foram digitados {quant} numeros. {numeros}\")\n",
    "\n",
    "#print(\"A soma é: \"+ str(soma) +\" Os numeros digitados são: \"+ str(nu_dig))"
   ]
  },
  {
   "cell_type": "code",
   "execution_count": 152,
   "metadata": {},
   "outputs": [
    {
     "name": "stdout",
     "output_type": "stream",
     "text": [
      "pessoas maiores de 18: 1. Homens cadastrados: 0. Mulheres menores de 20 anos: 1\n"
     ]
    }
   ],
   "source": [
    "# Exercicio 22:\n",
    "dados = []\n",
    "while True:\n",
    "    nome = input(\"Digete o nome: \")\n",
    "    idad = int(input(\"Digite a idade: \"))\n",
    "    sexo = input(\"Informe o sexo F ou M: \")\n",
    "    contin = int(input(\"deseja continuar? 1 para sim e outro numero para não: \"))\n",
    "    dados = [{\"Nome\": nome,\"Idade\": idad,\"Sexo\":sexo}]\n",
    "    if contin != 1:\n",
    "        break\n",
    "\n",
    "maior_de18          = len([_ for _ in dados if _[\"Idade\"] >= 18])\n",
    "sexo_masc           = len([_ for _ in dados if _[\"Sexo\"] == \"M\"])\n",
    "sexo_fem_acima20    = len([_ for _ in dados if _[\"Sexo\"] == \"F\" and _[\"Idade\"] <= 20])\n",
    "\n",
    "print (f\"pessoas maiores de 18: {maior_de18}. Homens cadastrados: {sexo_masc}. Mulheres menores de 20 anos: {sexo_fem_acima20}\")"
   ]
  },
  {
   "cell_type": "code",
   "execution_count": 153,
   "metadata": {},
   "outputs": [
    {
     "data": {
      "text/plain": [
       "[[33, 59, 49, 24, 4, 27],\n",
       " [60, 23, 39, 22, 30, 13],\n",
       " [19, 1, 27, 45, 22, 19],\n",
       " [39, 3, 5, 56, 39, 33],\n",
       " [3, 32, 28, 30, 46, 60]]"
      ]
     },
     "metadata": {},
     "output_type": "display_data"
    }
   ],
   "source": [
    "# Exercicio 23:\n",
    "import random\n",
    "\n",
    "jogos_gerados = int(input(\"Digite o numeros de jogos que teram: \"))\n",
    "lista_numeros = [[random.randint(1,60) for _ in range(6)] for _ in range(jogos_gerados)]\n",
    "\n",
    "display(lista_numeros)"
   ]
  },
  {
   "cell_type": "code",
   "execution_count": 154,
   "metadata": {},
   "outputs": [
    {
     "name": "stdout",
     "output_type": "stream",
     "text": [
      "3 São de maior e 4 são de menor...\n"
     ]
    }
   ],
   "source": [
    "# Exercicio 24:\n",
    "from datetime import datetime\n",
    "cadas_max = 7\n",
    "ano_atu  = datetime.now().year\n",
    "\n",
    "ano_nas     = [int(input(\"Informe o ano de nascimento: \")) for _ in range(cadas_max)]\n",
    "idades      = [(ano_atu - ano_nas[_]) for _ in range(cadas_max)]\n",
    "de_maior = sum(maior >= 18 for maior in idades)\n",
    "de_menor = sum(menor < 18 for menor in idades)\n",
    "\n",
    "print(f\"{de_maior} São de maior e {de_menor} são de menor...\")"
   ]
  },
  {
   "cell_type": "code",
   "execution_count": 160,
   "metadata": {},
   "outputs": [
    {
     "name": "stdout",
     "output_type": "stream",
     "text": [
      "Não é triangulo\n"
     ]
    }
   ],
   "source": [
    "# Exercicio 25:\n",
    "\n",
    "lados_triangulo = [int(input(f\"Informe lado {_} do triangulo: \")) for _ in range(3)]\n",
    "lados_triangulo.sort()\n",
    "\n",
    "soma = lados_triangulo[0] + lados_triangulo[1]\n",
    "if lados_triangulo[2] <= soma:\n",
    "    print(\"É triangulo\")\n",
    "else:\n",
    "    print(\"Não é triangulo\")"
   ]
  }
 ],
 "metadata": {
  "kernelspec": {
   "display_name": "base",
   "language": "python",
   "name": "python3"
  },
  "language_info": {
   "codemirror_mode": {
    "name": "ipython",
    "version": 3
   },
   "file_extension": ".py",
   "mimetype": "text/x-python",
   "name": "python",
   "nbconvert_exporter": "python",
   "pygments_lexer": "ipython3",
   "version": "3.12.4"
  }
 },
 "nbformat": 4,
 "nbformat_minor": 2
}
